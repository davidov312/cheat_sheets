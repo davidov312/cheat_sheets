{
 "cells": [
  {
   "cell_type": "markdown",
   "id": "21ba545f",
   "metadata": {},
   "source": [
    "# pytoch dataloader file limit"
   ]
  },
  {
   "cell_type": "code",
   "execution_count": 2,
   "id": "b1883b3b",
   "metadata": {},
   "outputs": [],
   "source": [
    "# Unlimit the number of open files for pytorch dataloader\n",
    "# do in the terminal: ulimit -n 65535\n",
    "import torch\n",
    "torch.multiprocessing.set_sharing_strategy('file_system')"
   ]
  },
  {
   "cell_type": "markdown",
   "id": "97eb9057",
   "metadata": {},
   "source": [
    "# torch.view (reshape) "
   ]
  },
  {
   "cell_type": "code",
   "execution_count": 1,
   "id": "e6256b06",
   "metadata": {},
   "outputs": [
    {
     "data": {
      "text/plain": [
       "True"
      ]
     },
     "execution_count": 1,
     "metadata": {},
     "output_type": "execute_result"
    }
   ],
   "source": [
    "import torch\n",
    "x = torch.rand(2,12,512,4,4)\n",
    "x2 = x.view([-1] + list(x.shape[2:]))\n",
    "torch.equal(x[1,3], x2[12+3])"
   ]
  },
  {
   "cell_type": "code",
   "execution_count": 4,
   "id": "d385b340",
   "metadata": {},
   "outputs": [
    {
     "data": {
      "text/plain": [
       "True"
      ]
     },
     "execution_count": 4,
     "metadata": {},
     "output_type": "execute_result"
    }
   ],
   "source": [
    "import torch\n",
    "x = torch.rand(2,12,16,512)\n",
    "x2 = x.view([x.shape[0], -1, x.shape[-1]])\n",
    "x3 = x2.view(x.shape)\n",
    "torch.equal(x3, x)"
   ]
  },
  {
   "cell_type": "markdown",
   "id": "6c464c0e",
   "metadata": {},
   "source": [
    "# Pointwise multiplication of minibatches"
   ]
  },
  {
   "cell_type": "code",
   "execution_count": 25,
   "id": "ff076383",
   "metadata": {},
   "outputs": [
    {
     "data": {
      "text/plain": [
       "True"
      ]
     },
     "execution_count": 25,
     "metadata": {},
     "output_type": "execute_result"
    }
   ],
   "source": [
    "import torch\n",
    "a = torch.randn(4, 512, 3, 3)\n",
    "b = 2 * torch.ones(3, 3)\n",
    "b[0,2] = 0\n",
    "\n",
    "c = a*b\n",
    "c2 = a*b.expand_as(a)\n",
    "torch.equal(c, c2)"
   ]
  },
  {
   "cell_type": "markdown",
   "id": "352f3416",
   "metadata": {},
   "source": [
    "# Flip tensor 90, 180, 270 degrees"
   ]
  },
  {
   "cell_type": "code",
   "execution_count": 9,
   "id": "95c180f1",
   "metadata": {},
   "outputs": [
    {
     "name": "stdout",
     "output_type": "stream",
     "text": [
      "tensor([[[[ 0.,  1.,  2.,  3.],\n",
      "          [ 4.,  5.,  6.,  7.],\n",
      "          [ 8.,  9., 10., 11.],\n",
      "          [12., 13., 14., 15.]]]])\n",
      "tensor([[[[ 3.,  7., 11., 15.],\n",
      "          [ 2.,  6., 10., 14.],\n",
      "          [ 1.,  5.,  9., 13.],\n",
      "          [ 0.,  4.,  8., 12.]]]])\n",
      "tensor([[[[12., 13., 14., 15.],\n",
      "          [ 8.,  9., 10., 11.],\n",
      "          [ 4.,  5.,  6.,  7.],\n",
      "          [ 0.,  1.,  2.,  3.]]]])\n",
      "tensor([[[[12.,  8.,  4.,  0.],\n",
      "          [13.,  9.,  5.,  1.],\n",
      "          [14., 10.,  6.,  2.],\n",
      "          [15., 11.,  7.,  3.]]]])\n"
     ]
    }
   ],
   "source": [
    "import torch\n",
    "x = torch.zeros(1, 1, 4, 4)\n",
    "k = 0.0\n",
    "for i in range(4):\n",
    "    for j in range(4):\n",
    "        x[:, :, i, j] = k\n",
    "        k += 1\n",
    "\n",
    "x90 = x.transpose(2, 3).flip(2)\n",
    "x180 = x.flip(2)\n",
    "x270 = x.transpose(2, 3).flip(3)\n",
    "print(x); print(x90); print(x180); print(x270)"
   ]
  }
 ],
 "metadata": {
  "kernelspec": {
   "display_name": "Python 3 (ipykernel)",
   "language": "python",
   "name": "python3"
  },
  "language_info": {
   "codemirror_mode": {
    "name": "ipython",
    "version": 3
   },
   "file_extension": ".py",
   "mimetype": "text/x-python",
   "name": "python",
   "nbconvert_exporter": "python",
   "pygments_lexer": "ipython3",
   "version": "3.9.7"
  }
 },
 "nbformat": 4,
 "nbformat_minor": 5
}
