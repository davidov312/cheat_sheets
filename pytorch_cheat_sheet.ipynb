{
 "cells": [
  {
   "cell_type": "markdown",
   "id": "21ba545f",
   "metadata": {},
   "source": [
    "# pytoch dataloader file limit"
   ]
  },
  {
   "cell_type": "code",
   "execution_count": 2,
   "id": "b1883b3b",
   "metadata": {},
   "outputs": [],
   "source": [
    "# Unlimit the number of open files for pytorch dataloader\n",
    "# do in the terminal: ulimit -n 65535\n",
    "import torch\n",
    "torch.multiprocessing.set_sharing_strategy('file_system')"
   ]
  },
  {
   "cell_type": "markdown",
   "id": "97eb9057",
   "metadata": {},
   "source": [
    "# torch.view (reshape) "
   ]
  },
  {
   "cell_type": "code",
   "execution_count": 1,
   "id": "e6256b06",
   "metadata": {},
   "outputs": [
    {
     "data": {
      "text/plain": [
       "True"
      ]
     },
     "execution_count": 1,
     "metadata": {},
     "output_type": "execute_result"
    }
   ],
   "source": [
    "import torch\n",
    "x = torch.rand(2,12,512,4,4)\n",
    "x2 = x.view([-1] + list(x.shape[2:]))\n",
    "torch.equal(x[1,3], x2[12+3])"
   ]
  },
  {
   "cell_type": "code",
   "execution_count": 4,
   "id": "d385b340",
   "metadata": {},
   "outputs": [
    {
     "data": {
      "text/plain": [
       "True"
      ]
     },
     "execution_count": 4,
     "metadata": {},
     "output_type": "execute_result"
    }
   ],
   "source": [
    "import torch\n",
    "x = torch.rand(2,12,16,512)\n",
    "x2 = x.view([x.shape[0], -1, x.shape[-1]])\n",
    "x3 = x2.view(x.shape)\n",
    "torch.equal(x3, x)"
   ]
  },
  {
   "cell_type": "markdown",
   "id": "6c464c0e",
   "metadata": {},
   "source": [
    "# Pointwise multiplication of minibatches"
   ]
  },
  {
   "cell_type": "code",
   "execution_count": 25,
   "id": "ff076383",
   "metadata": {},
   "outputs": [
    {
     "data": {
      "text/plain": [
       "True"
      ]
     },
     "execution_count": 25,
     "metadata": {},
     "output_type": "execute_result"
    }
   ],
   "source": [
    "import torch\n",
    "a = torch.randn(4, 512, 3, 3)\n",
    "b = 2 * torch.ones(3, 3)\n",
    "b[0,2] = 0\n",
    "\n",
    "c = a*b\n",
    "c2 = a*b.expand_as(a)\n",
    "torch.equal(c, c2)"
   ]
  },
  {
   "cell_type": "markdown",
   "id": "352f3416",
   "metadata": {},
   "source": [
    "# Flip tensor 90, 180, 270 degrees"
   ]
  },
  {
   "cell_type": "code",
   "execution_count": 9,
   "id": "95c180f1",
   "metadata": {},
   "outputs": [
    {
     "name": "stdout",
     "output_type": "stream",
     "text": [
      "tensor([[[[ 0.,  1.,  2.,  3.],\n",
      "          [ 4.,  5.,  6.,  7.],\n",
      "          [ 8.,  9., 10., 11.],\n",
      "          [12., 13., 14., 15.]]]])\n",
      "tensor([[[[ 3.,  7., 11., 15.],\n",
      "          [ 2.,  6., 10., 14.],\n",
      "          [ 1.,  5.,  9., 13.],\n",
      "          [ 0.,  4.,  8., 12.]]]])\n",
      "tensor([[[[12., 13., 14., 15.],\n",
      "          [ 8.,  9., 10., 11.],\n",
      "          [ 4.,  5.,  6.,  7.],\n",
      "          [ 0.,  1.,  2.,  3.]]]])\n",
      "tensor([[[[12.,  8.,  4.,  0.],\n",
      "          [13.,  9.,  5.,  1.],\n",
      "          [14., 10.,  6.,  2.],\n",
      "          [15., 11.,  7.,  3.]]]])\n"
     ]
    }
   ],
   "source": [
    "import torch\n",
    "x = torch.zeros(1, 1, 4, 4)\n",
    "k = 0.0\n",
    "for i in range(4):\n",
    "    for j in range(4):\n",
    "        x[:, :, i, j] = k\n",
    "        k += 1\n",
    "\n",
    "x90 = x.transpose(2, 3).flip(2)\n",
    "x180 = x.flip(2)\n",
    "x270 = x.transpose(2, 3).flip(3)\n",
    "print(x); print(x90); print(x180); print(x270)"
   ]
  },
  {
   "cell_type": "markdown",
   "id": "60361a41",
   "metadata": {},
   "source": [
    "# Tensor <=> Numpy"
   ]
  },
  {
   "cell_type": "code",
   "execution_count": 13,
   "id": "e9d249d0",
   "metadata": {},
   "outputs": [
    {
     "name": "stdout",
     "output_type": "stream",
     "text": [
      "x_np type: <class 'numpy.ndarray'>\n",
      "x_torch type: <class 'torch.Tensor'>\n",
      "x_np converted back to type: <class 'numpy.ndarray'>\n"
     ]
    }
   ],
   "source": [
    "import numpy as np\n",
    "import torch\n",
    "x_np = np.array([[1,2,3],[4,5,6]])\n",
    "print('x_np type: {}'.format(type(x_np)))\n",
    "\n",
    "x_torch = torch.from_numpy(x_np)\n",
    "print('x_torch type: {}'.format(type(x_torch)))\n",
    "\n",
    "x_np2 = x_torch.numpy()\n",
    "print('x_np converted back to type: {}'.format(type(x_np2)))\n",
    "\n",
    "assert np.array_equal(x_np2, x_np)\n"
   ]
  },
  {
   "cell_type": "markdown",
   "id": "e74f6dca",
   "metadata": {},
   "source": [
    "# List of tensors to tensor"
   ]
  },
  {
   "cell_type": "code",
   "execution_count": 18,
   "id": "1d0d8619",
   "metadata": {},
   "outputs": [
    {
     "name": "stdout",
     "output_type": "stream",
     "text": [
      "len(x): 10, x[0].shape: torch.Size([128, 128, 3])\n",
      "y.shape: torch.Size([10, 128, 128, 3])\n"
     ]
    }
   ],
   "source": [
    "x = [torch.rand(128,128,3) for i in range(10)]\n",
    "print('len(x): {}, x[0].shape: {}'.format(len(x), x[0].shape))\n",
    "\n",
    "y = torch.stack(x)\n",
    "print('y.shape: {}'.format(y.shape))"
   ]
  },
  {
   "cell_type": "markdown",
   "id": "eae40bc9",
   "metadata": {},
   "source": []
  }
 ],
 "metadata": {
  "kernelspec": {
   "display_name": "Python 3 (ipykernel)",
   "language": "python",
   "name": "python3"
  },
  "language_info": {
   "codemirror_mode": {
    "name": "ipython",
    "version": 3
   },
   "file_extension": ".py",
   "mimetype": "text/x-python",
   "name": "python",
   "nbconvert_exporter": "python",
   "pygments_lexer": "ipython3",
   "version": "3.9.7"
  }
 },
 "nbformat": 4,
 "nbformat_minor": 5
}
